{
 "cells": [
  {
   "cell_type": "markdown",
   "id": "40d9f1fb",
   "metadata": {},
   "source": [
    "## IMPORTING LIBRARIES\n"
   ]
  },
  {
   "cell_type": "code",
   "execution_count": 1,
   "id": "764c8ceb",
   "metadata": {},
   "outputs": [],
   "source": [
    "import pandas as pd\n",
    "import numpy as np\n",
    "from matplotlib import pyplot as plt\n",
    "import seaborn as sns"
   ]
  },
  {
   "cell_type": "markdown",
   "id": "0a6cfddc",
   "metadata": {},
   "source": [
    "## READ CSV\n"
   ]
  },
  {
   "cell_type": "code",
   "execution_count": 5,
   "id": "4abe6ab9",
   "metadata": {},
   "outputs": [
    {
     "data": {
      "application/vnd.microsoft.datawrangler.viewer.v0+json": {
       "columns": [
        {
         "name": "index",
         "rawType": "int64",
         "type": "integer"
        },
        {
         "name": "Product Name",
         "rawType": "object",
         "type": "string"
        },
        {
         "name": "Price",
         "rawType": "float64",
         "type": "float"
        }
       ],
       "ref": "fc0957df-3e0a-4bf3-954e-7e1e3f4e4a0f",
       "rows": [
        [
         "0",
         "Menow Make Up Set Palette Professional 78 Colors Multicolour",
         "325.0"
        ],
        [
         "1",
         "Cybele eye concealer caramel 02 - 2.5gm",
         "140.0"
        ],
        [
         "2",
         "Revolution Powder Loose Translucent Baking Powder",
         "392.0"
        ],
        [
         "3",
         "New Matic Lipstick Pencil Pro 6 Pcs 6 Colors - Collection 2",
         "189.0"
        ],
        [
         "4",
         "Essence baby got blush 30",
         "320.0"
        ],
        [
         "5",
         "SHEGLAM Makeup - Good Grip Hydrating Primer - Long-Lasting Hold",
         "537.0"
        ],
        [
         "6",
         "Maybelline New York Super Stay Vinyl Ink 35 Cheeky 5.4 ML",
         "666.0"
        ],
        [
         "7",
         "Maybelline New York Black Mascara for Extremely Long Eyelashes Lash Sensational Sky High Mascara Very Black 7.2ml",
         "523.0"
        ],
        [
         "8",
         "Maybelline New York Fit Me Matte + Poreless FOUNDATION-110 porcelain",
         "375.0"
        ],
        [
         "9",
         "BB Blemish Balm Cream Pro, Light Coverage Foundation, 40ml, Shade #1",
         "109.0"
        ]
       ],
       "shape": {
        "columns": 2,
        "rows": 10
       }
      },
      "text/html": [
       "<div>\n",
       "<style scoped>\n",
       "    .dataframe tbody tr th:only-of-type {\n",
       "        vertical-align: middle;\n",
       "    }\n",
       "\n",
       "    .dataframe tbody tr th {\n",
       "        vertical-align: top;\n",
       "    }\n",
       "\n",
       "    .dataframe thead th {\n",
       "        text-align: right;\n",
       "    }\n",
       "</style>\n",
       "<table border=\"1\" class=\"dataframe\">\n",
       "  <thead>\n",
       "    <tr style=\"text-align: right;\">\n",
       "      <th></th>\n",
       "      <th>Product Name</th>\n",
       "      <th>Price</th>\n",
       "    </tr>\n",
       "  </thead>\n",
       "  <tbody>\n",
       "    <tr>\n",
       "      <th>0</th>\n",
       "      <td>Menow Make Up Set Palette Professional 78 Colo...</td>\n",
       "      <td>325.0</td>\n",
       "    </tr>\n",
       "    <tr>\n",
       "      <th>1</th>\n",
       "      <td>Cybele eye concealer caramel 02 - 2.5gm</td>\n",
       "      <td>140.0</td>\n",
       "    </tr>\n",
       "    <tr>\n",
       "      <th>2</th>\n",
       "      <td>Revolution Powder Loose Translucent Baking Powder</td>\n",
       "      <td>392.0</td>\n",
       "    </tr>\n",
       "    <tr>\n",
       "      <th>3</th>\n",
       "      <td>New Matic Lipstick Pencil Pro 6 Pcs 6 Colors -...</td>\n",
       "      <td>189.0</td>\n",
       "    </tr>\n",
       "    <tr>\n",
       "      <th>4</th>\n",
       "      <td>Essence baby got blush 30</td>\n",
       "      <td>320.0</td>\n",
       "    </tr>\n",
       "    <tr>\n",
       "      <th>5</th>\n",
       "      <td>SHEGLAM Makeup - Good Grip Hydrating Primer - ...</td>\n",
       "      <td>537.0</td>\n",
       "    </tr>\n",
       "    <tr>\n",
       "      <th>6</th>\n",
       "      <td>Maybelline New York Super Stay Vinyl Ink 35 Ch...</td>\n",
       "      <td>666.0</td>\n",
       "    </tr>\n",
       "    <tr>\n",
       "      <th>7</th>\n",
       "      <td>Maybelline New York Black Mascara for Extremel...</td>\n",
       "      <td>523.0</td>\n",
       "    </tr>\n",
       "    <tr>\n",
       "      <th>8</th>\n",
       "      <td>Maybelline New York Fit Me Matte + Poreless FO...</td>\n",
       "      <td>375.0</td>\n",
       "    </tr>\n",
       "    <tr>\n",
       "      <th>9</th>\n",
       "      <td>BB Blemish Balm Cream Pro, Light Coverage Foun...</td>\n",
       "      <td>109.0</td>\n",
       "    </tr>\n",
       "  </tbody>\n",
       "</table>\n",
       "</div>"
      ],
      "text/plain": [
       "                                        Product Name  Price\n",
       "0  Menow Make Up Set Palette Professional 78 Colo...  325.0\n",
       "1            Cybele eye concealer caramel 02 - 2.5gm  140.0\n",
       "2  Revolution Powder Loose Translucent Baking Powder  392.0\n",
       "3  New Matic Lipstick Pencil Pro 6 Pcs 6 Colors -...  189.0\n",
       "4                          Essence baby got blush 30  320.0\n",
       "5  SHEGLAM Makeup - Good Grip Hydrating Primer - ...  537.0\n",
       "6  Maybelline New York Super Stay Vinyl Ink 35 Ch...  666.0\n",
       "7  Maybelline New York Black Mascara for Extremel...  523.0\n",
       "8  Maybelline New York Fit Me Matte + Poreless FO...  375.0\n",
       "9  BB Blemish Balm Cream Pro, Light Coverage Foun...  109.0"
      ]
     },
     "execution_count": 5,
     "metadata": {},
     "output_type": "execute_result"
    }
   ],
   "source": [
    "df1 = pd.read_csv(r\"D:\\DEPI PDF\\progicts\\make up\\makeup_products.csv\")\n",
    "df1.head(10)"
   ]
  },
  {
   "cell_type": "markdown",
   "id": "fe867767",
   "metadata": {},
   "source": [
    "---\n"
   ]
  },
  {
   "cell_type": "markdown",
   "id": "f1101f25",
   "metadata": {},
   "source": [
    "## Insights\n"
   ]
  },
  {
   "cell_type": "markdown",
   "id": "44ea563b",
   "metadata": {},
   "source": [
    "## Most and Least Expensive Product\n"
   ]
  },
  {
   "cell_type": "code",
   "execution_count": null,
   "id": "442b71c5",
   "metadata": {},
   "outputs": [
    {
     "data": {
      "application/vnd.microsoft.datawrangler.viewer.v0+json": {
       "columns": [
        {
         "name": "index",
         "rawType": "int64",
         "type": "integer"
        },
        {
         "name": "Product Name",
         "rawType": "object",
         "type": "string"
        },
        {
         "name": "Price",
         "rawType": "float64",
         "type": "float"
        }
       ],
       "ref": "bd2c3082-7329-4cb8-a7c5-8521672f1318",
       "rows": [
        [
         "119",
         "NYX Professional Makeup Lip Gloss, High Pigment, Long Lasting Lip Shine, No Transfer, Shine Loud, 04 Life Goals",
         "727.0"
        ]
       ],
       "shape": {
        "columns": 2,
        "rows": 1
       }
      },
      "text/html": [
       "<div>\n",
       "<style scoped>\n",
       "    .dataframe tbody tr th:only-of-type {\n",
       "        vertical-align: middle;\n",
       "    }\n",
       "\n",
       "    .dataframe tbody tr th {\n",
       "        vertical-align: top;\n",
       "    }\n",
       "\n",
       "    .dataframe thead th {\n",
       "        text-align: right;\n",
       "    }\n",
       "</style>\n",
       "<table border=\"1\" class=\"dataframe\">\n",
       "  <thead>\n",
       "    <tr style=\"text-align: right;\">\n",
       "      <th></th>\n",
       "      <th>Product Name</th>\n",
       "      <th>Price</th>\n",
       "    </tr>\n",
       "  </thead>\n",
       "  <tbody>\n",
       "    <tr>\n",
       "      <th>119</th>\n",
       "      <td>NYX Professional Makeup Lip Gloss, High Pigmen...</td>\n",
       "      <td>727.0</td>\n",
       "    </tr>\n",
       "  </tbody>\n",
       "</table>\n",
       "</div>"
      ],
      "text/plain": [
       "                                          Product Name  Price\n",
       "119  NYX Professional Makeup Lip Gloss, High Pigmen...  727.0"
      ]
     },
     "execution_count": 6,
     "metadata": {},
     "output_type": "execute_result"
    }
   ],
   "source": [
    "df1.loc[df1['Price'] == df1['Price'].max()] "
   ]
  },
  {
   "cell_type": "markdown",
   "id": "00eb522f",
   "metadata": {},
   "source": [
    "most expensive product --> NYX Professional Makeup Lip Gloss, High Pigment, Long Lasting Lip Shine, No Transfer, Shine Loud, 04 Life Goals 727.0\n"
   ]
  },
  {
   "cell_type": "code",
   "execution_count": 7,
   "id": "367ae994",
   "metadata": {},
   "outputs": [
    {
     "data": {
      "application/vnd.microsoft.datawrangler.viewer.v0+json": {
       "columns": [
        {
         "name": "index",
         "rawType": "int64",
         "type": "integer"
        },
        {
         "name": "Product Name",
         "rawType": "object",
         "type": "string"
        },
        {
         "name": "Price",
         "rawType": "float64",
         "type": "float"
        }
       ],
       "ref": "d2dbd726-3913-4e92-8ade-c1853b802dfc",
       "rows": [
        [
         "19",
         "Ciao Lip satin Lipstick-06",
         "50.0"
        ],
        [
         "124",
         "Ciao Lipsatin Lipstick-20",
         "50.0"
        ]
       ],
       "shape": {
        "columns": 2,
        "rows": 2
       }
      },
      "text/html": [
       "<div>\n",
       "<style scoped>\n",
       "    .dataframe tbody tr th:only-of-type {\n",
       "        vertical-align: middle;\n",
       "    }\n",
       "\n",
       "    .dataframe tbody tr th {\n",
       "        vertical-align: top;\n",
       "    }\n",
       "\n",
       "    .dataframe thead th {\n",
       "        text-align: right;\n",
       "    }\n",
       "</style>\n",
       "<table border=\"1\" class=\"dataframe\">\n",
       "  <thead>\n",
       "    <tr style=\"text-align: right;\">\n",
       "      <th></th>\n",
       "      <th>Product Name</th>\n",
       "      <th>Price</th>\n",
       "    </tr>\n",
       "  </thead>\n",
       "  <tbody>\n",
       "    <tr>\n",
       "      <th>19</th>\n",
       "      <td>Ciao Lip satin Lipstick-06</td>\n",
       "      <td>50.0</td>\n",
       "    </tr>\n",
       "    <tr>\n",
       "      <th>124</th>\n",
       "      <td>Ciao Lipsatin Lipstick-20</td>\n",
       "      <td>50.0</td>\n",
       "    </tr>\n",
       "  </tbody>\n",
       "</table>\n",
       "</div>"
      ],
      "text/plain": [
       "                   Product Name  Price\n",
       "19   Ciao Lip satin Lipstick-06   50.0\n",
       "124   Ciao Lipsatin Lipstick-20   50.0"
      ]
     },
     "execution_count": 7,
     "metadata": {},
     "output_type": "execute_result"
    }
   ],
   "source": [
    "df1.loc[df1['Price'] == df1['Price'].min()] "
   ]
  },
  {
   "cell_type": "markdown",
   "id": "964a73c3",
   "metadata": {},
   "source": [
    "Least Expensive Product\n",
    "\n",
    "- 1 Ciao Lip satin Lipstick-06\n",
    "- 2 Ciao Lip satin Lipstick-06\n",
    "\n",
    "---\n"
   ]
  },
  {
   "cell_type": "markdown",
   "id": "08d84394",
   "metadata": {},
   "source": [
    "## Average Price\n"
   ]
  },
  {
   "cell_type": "code",
   "execution_count": 10,
   "id": "a592538e",
   "metadata": {},
   "outputs": [
    {
     "name": "stdout",
     "output_type": "stream",
     "text": [
      "308.2325581395349\n"
     ]
    }
   ],
   "source": [
    "print(df1[\"Price\"].mean())"
   ]
  },
  {
   "cell_type": "markdown",
   "id": "7bfca9b2",
   "metadata": {},
   "source": [
    "AVRAGE PRICE --> 308\n"
   ]
  },
  {
   "cell_type": "markdown",
   "id": "4b65dd15",
   "metadata": {},
   "source": [
    "---\n"
   ]
  },
  {
   "cell_type": "markdown",
   "id": "5f3c3dc3",
   "metadata": {},
   "source": [
    "## Price Distribution\n"
   ]
  },
  {
   "cell_type": "code",
   "execution_count": 11,
   "id": "5801c119",
   "metadata": {},
   "outputs": [
    {
     "data": {
      "image/png": "[encoded data removed]",
      "text/plain": [
       "<Figure size 640x480 with 1 Axes>"
      ]
     },
     "metadata": {},
     "output_type": "display_data"
    }
   ],
   "source": [
    "plt.hist(df1['Price'], bins=5, edgecolor='black', alpha=0.7) \n",
    "plt.title('Price Distribution of Makeup Products')\n",
    "plt.xlabel('Price')\n",
    "plt.ylabel('Frequency')\n",
    "plt.show()"
   ]
  },
  {
   "cell_type": "markdown",
   "id": "49eeb315",
   "metadata": {},
   "source": [
    "The majority of the products are priced between $300 and 400, as this range has the highest frequency.\n",
    "\n",
    "A significant number of products also fall into the 100-300 range.\n",
    "\n",
    "The number of products decreases as the price increases above 400, indicating that very few products are in the higher price brackets (e.g., above 500).\n"
   ]
  },
  {
   "cell_type": "markdown",
   "id": "c8e1a14d",
   "metadata": {},
   "source": [
    "---\n"
   ]
  },
  {
   "cell_type": "markdown",
   "id": "6f364aa3",
   "metadata": {},
   "source": [
    "## READ CSV\n"
   ]
  },
  {
   "cell_type": "code",
   "execution_count": 12,
   "id": "67f51e83",
   "metadata": {},
   "outputs": [
    {
     "name": "stderr",
     "output_type": "stream",
     "text": [
      "<>:1: SyntaxWarning: invalid escape sequence '\\D'\n",
      "<>:1: SyntaxWarning: invalid escape sequence '\\D'\n",
      "C:\\Users\\FreeComp\\AppData\\Local\\Temp\\ipykernel_14908\\423535769.py:1: SyntaxWarning: invalid escape sequence '\\D'\n",
      "  df2 = pd.read_csv(\"D:\\DEPI PDF\\progicts\\make up\\most_used_beauty_cosmetics_products_extended.csv\")\n"
     ]
    },
    {
     "data": {
      "application/vnd.microsoft.datawrangler.viewer.v0+json": {
       "columns": [
        {
         "name": "index",
         "rawType": "int64",
         "type": "integer"
        },
        {
         "name": "Product_Name",
         "rawType": "object",
         "type": "string"
        },
        {
         "name": "Brand",
         "rawType": "object",
         "type": "string"
        },
        {
         "name": "Category",
         "rawType": "object",
         "type": "string"
        },
        {
         "name": "Usage_Frequency",
         "rawType": "object",
         "type": "string"
        },
        {
         "name": "Price_USD",
         "rawType": "float64",
         "type": "float"
        },
        {
         "name": "Rating",
         "rawType": "float64",
         "type": "float"
        },
        {
         "name": "Number_of_Reviews",
         "rawType": "int64",
         "type": "integer"
        },
        {
         "name": "Product_Size",
         "rawType": "object",
         "type": "string"
        },
        {
         "name": "Skin_Type",
         "rawType": "object",
         "type": "string"
        },
        {
         "name": "Gender_Target",
         "rawType": "object",
         "type": "string"
        },
        {
         "name": "Packaging_Type",
         "rawType": "object",
         "type": "string"
        },
        {
         "name": "Main_Ingredient",
         "rawType": "object",
         "type": "string"
        },
        {
         "name": "Cruelty_Free",
         "rawType": "bool",
         "type": "boolean"
        },
        {
         "name": "Country_of_Origin",
         "rawType": "object",
         "type": "string"
        }
       ],
       "ref": "225f82b6-2c5a-4621-b2d5-3a6b2b27a0c2",
       "rows": [
        [
         "0",
         "Ultra Face Mask",
         "Drunk Elephant",
         "Blush",
         "Weekly",
         "67.85",
         "1.4",
         "686",
         "30ml",
         "Sensitive",
         "Female",
         "Tube",
         "Retinol",
         "False",
         "Australia"
        ],
        [
         "1",
         "Ultra Lipstick",
         "Laura Mercier",
         "Makeup Remover",
         "Occasional",
         "116.43",
         "4.2",
         "5483",
         "250ml",
         "Dry",
         "Unisex",
         "Bottle",
         "Shea Butter",
         "False",
         "UK"
        ],
        [
         "2",
         "Ultra Serum",
         "Natasha Denona",
         "Highlighter",
         "Daily",
         "90.84",
         "1.6",
         "5039",
         "100ml",
         "Sensitive",
         "Male",
         "Compact",
         "Aloe Vera",
         "True",
         "Italy"
        ],
        [
         "3",
         "Divine Serum",
         "Ilia Beauty",
         "Face Mask",
         "Occasional",
         "55.17",
         "3.2",
         "6202",
         "250ml",
         "Normal",
         "Male",
         "Tube",
         "Glycerin",
         "True",
         "South Korea"
        ],
        [
         "4",
         "Super Foundation",
         "Charlotte Tilbury",
         "Highlighter",
         "Occasional",
         "140.56",
         "1.7",
         "297",
         "100ml",
         "Oily",
         "Female",
         "Compact",
         "Glycerin",
         "False",
         "Germany"
        ],
        [
         "5",
         "Super Eye Shadow",
         "Danessa Myricks",
         "Foundation",
         "Weekly",
         "135.82",
         "3.2",
         "9405",
         "150ml",
         "Sensitive",
         "Female",
         "Compact",
         "Glycerin",
         "True",
         "UK"
        ],
        [
         "6",
         "Super Lip Gloss",
         "Bourjois",
         "Powder",
         "Monthly",
         "148.99",
         "2.5",
         "2423",
         "250ml",
         "Normal",
         "Female",
         "Jar",
         "Hyaluronic Acid",
         "True",
         "Germany"
        ],
        [
         "7",
         "Ultra Cleanser",
         "Bourjois",
         "Lip Gloss",
         "Daily",
         "21.43",
         "4.3",
         "8032",
         "200ml",
         "Sensitive",
         "Male",
         "Bottle",
         "Vitamin C",
         "True",
         "Italy"
        ],
        [
         "8",
         "Magic Highlighter",
         "IT Cosmetics",
         "CC Cream",
         "Occasional",
         "113.09",
         "3.3",
         "2468",
         "200ml",
         "Combination",
         "Unisex",
         "Compact",
         "Vitamin C",
         "True",
         "Germany"
        ],
        [
         "9",
         "Perfect Bronzer",
         "Fenty Beauty",
         "Face Mask",
         "Weekly",
         "133.57",
         "4.4",
         "4127",
         "150ml",
         "Dry",
         "Female",
         "Compact",
         "Hyaluronic Acid",
         "False",
         "Japan"
        ]
       ],
       "shape": {
        "columns": 14,
        "rows": 10
       }
      },
      "text/html": [
       "<div>\n",
       "<style scoped>\n",
       "    .dataframe tbody tr th:only-of-type {\n",
       "        vertical-align: middle;\n",
       "    }\n",
       "\n",
       "    .dataframe tbody tr th {\n",
       "        vertical-align: top;\n",
       "    }\n",
       "\n",
       "    .dataframe thead th {\n",
       "        text-align: right;\n",
       "    }\n",
       "</style>\n",
       "<table border=\"1\" class=\"dataframe\">\n",
       "  <thead>\n",
       "    <tr style=\"text-align: right;\">\n",
       "      <th></th>\n",
       "      <th>Product_Name</th>\n",
       "      <th>Brand</th>\n",
       "      <th>Category</th>\n",
       "      <th>Usage_Frequency</th>\n",
       "      <th>Price_USD</th>\n",
       "      <th>Rating</th>\n",
       "      <th>Number_of_Reviews</th>\n",
       "      <th>Product_Size</th>\n",
       "      <th>Skin_Type</th>\n",
       "      <th>Gender_Target</th>\n",
       "      <th>Packaging_Type</th>\n",
       "      <th>Main_Ingredient</th>\n",
       "      <th>Cruelty_Free</th>\n",
       "      <th>Country_of_Origin</th>\n",
       "    </tr>\n",
       "  </thead>\n",
       "  <tbody>\n",
       "    <tr>\n",
       "      <th>0</th>\n",
       "      <td>Ultra Face Mask</td>\n",
       "      <td>Drunk Elephant</td>\n",
       "      <td>Blush</td>\n",
       "      <td>Weekly</td>\n",
       "      <td>67.85</td>\n",
       "      <td>1.4</td>\n",
       "      <td>686</td>\n",
       "      <td>30ml</td>\n",
       "      <td>Sensitive</td>\n",
       "      <td>Female</td>\n",
       "      <td>Tube</td>\n",
       "      <td>Retinol</td>\n",
       "      <td>False</td>\n",
       "      <td>Australia</td>\n",
       "    </tr>\n",
       "    <tr>\n",
       "      <th>1</th>\n",
       "      <td>Ultra Lipstick</td>\n",
       "      <td>Laura Mercier</td>\n",
       "      <td>Makeup Remover</td>\n",
       "      <td>Occasional</td>\n",
       "      <td>116.43</td>\n",
       "      <td>4.2</td>\n",
       "      <td>5483</td>\n",
       "      <td>250ml</td>\n",
       "      <td>Dry</td>\n",
       "      <td>Unisex</td>\n",
       "      <td>Bottle</td>\n",
       "      <td>Shea Butter</td>\n",
       "      <td>False</td>\n",
       "      <td>UK</td>\n",
       "    </tr>\n",
       "    <tr>\n",
       "      <th>2</th>\n",
       "      <td>Ultra Serum</td>\n",
       "      <td>Natasha Denona</td>\n",
       "      <td>Highlighter</td>\n",
       "      <td>Daily</td>\n",
       "      <td>90.84</td>\n",
       "      <td>1.6</td>\n",
       "      <td>5039</td>\n",
       "      <td>100ml</td>\n",
       "      <td>Sensitive</td>\n",
       "      <td>Male</td>\n",
       "      <td>Compact</td>\n",
       "      <td>Aloe Vera</td>\n",
       "      <td>True</td>\n",
       "      <td>Italy</td>\n",
       "    </tr>\n",
       "    <tr>\n",
       "      <th>3</th>\n",
       "      <td>Divine Serum</td>\n",
       "      <td>Ilia Beauty</td>\n",
       "      <td>Face Mask</td>\n",
       "      <td>Occasional</td>\n",
       "      <td>55.17</td>\n",
       "      <td>3.2</td>\n",
       "      <td>6202</td>\n",
       "      <td>250ml</td>\n",
       "      <td>Normal</td>\n",
       "      <td>Male</td>\n",
       "      <td>Tube</td>\n",
       "      <td>Glycerin</td>\n",
       "      <td>True</td>\n",
       "      <td>South Korea</td>\n",
       "    </tr>\n",
       "    <tr>\n",
       "      <th>4</th>\n",
       "      <td>Super Foundation</td>\n",
       "      <td>Charlotte Tilbury</td>\n",
       "      <td>Highlighter</td>\n",
       "      <td>Occasional</td>\n",
       "      <td>140.56</td>\n",
       "      <td>1.7</td>\n",
       "      <td>297</td>\n",
       "      <td>100ml</td>\n",
       "      <td>Oily</td>\n",
       "      <td>Female</td>\n",
       "      <td>Compact</td>\n",
       "      <td>Glycerin</td>\n",
       "      <td>False</td>\n",
       "      <td>Germany</td>\n",
       "    </tr>\n",
       "    <tr>\n",
       "      <th>5</th>\n",
       "      <td>Super Eye Shadow</td>\n",
       "      <td>Danessa Myricks</td>\n",
       "      <td>Foundation</td>\n",
       "      <td>Weekly</td>\n",
       "      <td>135.82</td>\n",
       "      <td>3.2</td>\n",
       "      <td>9405</td>\n",
       "      <td>150ml</td>\n",
       "      <td>Sensitive</td>\n",
       "      <td>Female</td>\n",
       "      <td>Compact</td>\n",
       "      <td>Glycerin</td>\n",
       "      <td>True</td>\n",
       "      <td>UK</td>\n",
       "    </tr>\n",
       "    <tr>\n",
       "      <th>6</th>\n",
       "      <td>Super Lip Gloss</td>\n",
       "      <td>Bourjois</td>\n",
       "      <td>Powder</td>\n",
       "      <td>Monthly</td>\n",
       "      <td>148.99</td>\n",
       "      <td>2.5</td>\n",
       "      <td>2423</td>\n",
       "      <td>250ml</td>\n",
       "      <td>Normal</td>\n",
       "      <td>Female</td>\n",
       "      <td>Jar</td>\n",
       "      <td>Hyaluronic Acid</td>\n",
       "      <td>True</td>\n",
       "      <td>Germany</td>\n",
       "    </tr>\n",
       "    <tr>\n",
       "      <th>7</th>\n",
       "      <td>Ultra Cleanser</td>\n",
       "      <td>Bourjois</td>\n",
       "      <td>Lip Gloss</td>\n",
       "      <td>Daily</td>\n",
       "      <td>21.43</td>\n",
       "      <td>4.3</td>\n",
       "      <td>8032</td>\n",
       "      <td>200ml</td>\n",
       "      <td>Sensitive</td>\n",
       "      <td>Male</td>\n",
       "      <td>Bottle</td>\n",
       "      <td>Vitamin C</td>\n",
       "      <td>True</td>\n",
       "      <td>Italy</td>\n",
       "    </tr>\n",
       "    <tr>\n",
       "      <th>8</th>\n",
       "      <td>Magic Highlighter</td>\n",
       "      <td>IT Cosmetics</td>\n",
       "      <td>CC Cream</td>\n",
       "      <td>Occasional</td>\n",
       "      <td>113.09</td>\n",
       "      <td>3.3</td>\n",
       "      <td>2468</td>\n",
       "      <td>200ml</td>\n",
       "      <td>Combination</td>\n",
       "      <td>Unisex</td>\n",
       "      <td>Compact</td>\n",
       "      <td>Vitamin C</td>\n",
       "      <td>True</td>\n",
       "      <td>Germany</td>\n",
       "    </tr>\n",
       "    <tr>\n",
       "      <th>9</th>\n",
       "      <td>Perfect Bronzer</td>\n",
       "      <td>Fenty Beauty</td>\n",
       "      <td>Face Mask</td>\n",
       "      <td>Weekly</td>\n",
       "      <td>133.57</td>\n",
       "      <td>4.4</td>\n",
       "      <td>4127</td>\n",
       "      <td>150ml</td>\n",
       "      <td>Dry</td>\n",
       "      <td>Female</td>\n",
       "      <td>Compact</td>\n",
       "      <td>Hyaluronic Acid</td>\n",
       "      <td>False</td>\n",
       "      <td>Japan</td>\n",
       "    </tr>\n",
       "  </tbody>\n",
       "</table>\n",
       "</div>"
      ],
      "text/plain": [
       "        Product_Name              Brand        Category Usage_Frequency  \\\n",
       "0    Ultra Face Mask     Drunk Elephant           Blush          Weekly   \n",
       "1     Ultra Lipstick      Laura Mercier  Makeup Remover      Occasional   \n",
       "2        Ultra Serum     Natasha Denona     Highlighter           Daily   \n",
       "3       Divine Serum        Ilia Beauty       Face Mask      Occasional   \n",
       "4   Super Foundation  Charlotte Tilbury     Highlighter      Occasional   \n",
       "5   Super Eye Shadow    Danessa Myricks      Foundation          Weekly   \n",
       "6    Super Lip Gloss           Bourjois          Powder         Monthly   \n",
       "7     Ultra Cleanser           Bourjois       Lip Gloss           Daily   \n",
       "8  Magic Highlighter       IT Cosmetics        CC Cream      Occasional   \n",
       "9    Perfect Bronzer       Fenty Beauty       Face Mask          Weekly   \n",
       "\n",
       "   Price_USD  Rating  Number_of_Reviews Product_Size    Skin_Type  \\\n",
       "0      67.85     1.4                686         30ml    Sensitive   \n",
       "1     116.43     4.2               5483        250ml          Dry   \n",
       "2      90.84     1.6               5039        100ml    Sensitive   \n",
       "3      55.17     3.2               6202        250ml       Normal   \n",
       "4     140.56     1.7                297        100ml         Oily   \n",
       "5     135.82     3.2               9405        150ml    Sensitive   \n",
       "6     148.99     2.5               2423        250ml       Normal   \n",
       "7      21.43     4.3               8032        200ml    Sensitive   \n",
       "8     113.09     3.3               2468        200ml  Combination   \n",
       "9     133.57     4.4               4127        150ml          Dry   \n",
       "\n",
       "  Gender_Target Packaging_Type  Main_Ingredient  Cruelty_Free  \\\n",
       "0        Female           Tube          Retinol         False   \n",
       "1        Unisex         Bottle      Shea Butter         False   \n",
       "2          Male        Compact        Aloe Vera          True   \n",
       "3          Male           Tube         Glycerin          True   \n",
       "4        Female        Compact         Glycerin         False   \n",
       "5        Female        Compact         Glycerin          True   \n",
       "6        Female            Jar  Hyaluronic Acid          True   \n",
       "7          Male         Bottle        Vitamin C          True   \n",
       "8        Unisex        Compact        Vitamin C          True   \n",
       "9        Female        Compact  Hyaluronic Acid         False   \n",
       "\n",
       "  Country_of_Origin  \n",
       "0         Australia  \n",
       "1                UK  \n",
       "2             Italy  \n",
       "3       South Korea  \n",
       "4           Germany  \n",
       "5                UK  \n",
       "6           Germany  \n",
       "7             Italy  \n",
       "8           Germany  \n",
       "9             Japan  "
      ]
     },
     "execution_count": 12,
     "metadata": {},
     "output_type": "execute_result"
    }
   ],
   "source": [
    "df2 = pd.read_csv(\"D:\\DEPI PDF\\progicts\\make up\\most_used_beauty_cosmetics_products_extended.csv\")\n",
    "df2.head(10)"
   ]
  },
  {
   "cell_type": "markdown",
   "id": "7485ae5f",
   "metadata": {},
   "source": [
    "## INSIGHTS\n"
   ]
  },
  {
   "cell_type": "markdown",
   "id": "a4cc2ab9",
   "metadata": {},
   "source": [
    "## Price and Ratings Analysis\n"
   ]
  },
  {
   "cell_type": "code",
   "execution_count": 13,
   "id": "a0f9bc64",
   "metadata": {},
   "outputs": [
    {
     "name": "stdout",
     "output_type": "stream",
     "text": [
      "Category\n",
      "BB Cream          78.907390\n",
      "Blush             82.290573\n",
      "Bronzer           81.363835\n",
      "CC Cream          79.431414\n",
      "Cleanser          79.001026\n",
      "Concealer         78.793870\n",
      "Contour           79.159735\n",
      "Exfoliator        83.010669\n",
      "Eye Shadow        81.662577\n",
      "Eyeliner          75.724531\n",
      "Face Mask         81.508851\n",
      "Face Oil          79.508927\n",
      "Foundation        80.923034\n",
      "Highlighter       81.433430\n",
      "Lip Gloss         80.536690\n",
      "Lip Liner         79.927934\n",
      "Lipstick          81.105387\n",
      "Makeup Remover    81.807123\n",
      "Mascara           79.825979\n",
      "Moisturizer       81.584718\n",
      "Powder            78.662588\n",
      "Primer            80.105165\n",
      "Serum             77.405746\n",
      "Setting Spray     79.979518\n",
      "Name: Price_USD, dtype: float64\n"
     ]
    }
   ],
   "source": [
    "average_price_by_category = df2.groupby('Category')['Price_USD'].mean()\n",
    "print(average_price_by_category)"
   ]
  },
  {
   "cell_type": "code",
   "execution_count": 15,
   "id": "bbde4262",
   "metadata": {},
   "outputs": [
    {
     "data": {
      "application/vnd.microsoft.datawrangler.viewer.v0+json": {
       "columns": [
        {
         "name": "index",
         "rawType": "int64",
         "type": "integer"
        },
        {
         "name": "Category",
         "rawType": "object",
         "type": "string"
        },
        {
         "name": "Price_USD",
         "rawType": "float64",
         "type": "float"
        }
       ],
       "ref": "8f02e7fd-825b-457d-940c-53cf825b8d77",
       "rows": [
        [
         "11484",
         "BB Cream",
         "149.99"
        ],
        [
         "5958",
         "Bronzer",
         "149.98"
        ],
        [
         "12667",
         "Bronzer",
         "149.97"
        ],
        [
         "10363",
         "Powder",
         "149.97"
        ],
        [
         "7551",
         "Moisturizer",
         "149.93"
        ],
        [
         "8874",
         "Lip Liner",
         "149.93"
        ],
        [
         "1263",
         "Contour",
         "149.92"
        ],
        [
         "924",
         "Foundation",
         "149.92"
        ],
        [
         "6138",
         "CC Cream",
         "149.92"
        ],
        [
         "11197",
         "Setting Spray",
         "149.91"
        ],
        [
         "7525",
         "Lipstick",
         "149.9"
        ],
        [
         "104",
         "Face Oil",
         "149.9"
        ],
        [
         "2199",
         "Lip Liner",
         "149.89"
        ],
        [
         "12746",
         "Highlighter",
         "149.87"
        ],
        [
         "10723",
         "Bronzer",
         "149.87"
        ],
        [
         "2574",
         "Foundation",
         "149.87"
        ],
        [
         "14425",
         "Concealer",
         "149.86"
        ],
        [
         "1725",
         "Lip Liner",
         "149.86"
        ],
        [
         "12970",
         "Lip Liner",
         "149.85"
        ],
        [
         "147",
         "CC Cream",
         "149.85"
        ],
        [
         "5734",
         "Setting Spray",
         "149.85"
        ],
        [
         "10147",
         "CC Cream",
         "149.85"
        ],
        [
         "2166",
         "Moisturizer",
         "149.83"
        ],
        [
         "8620",
         "Highlighter",
         "149.82"
        ],
        [
         "7305",
         "Mascara",
         "149.8"
        ],
        [
         "7418",
         "Eye Shadow",
         "149.79"
        ],
        [
         "5774",
         "Lip Liner",
         "149.78"
        ],
        [
         "4101",
         "Lipstick",
         "149.75"
        ],
        [
         "1049",
         "Eye Shadow",
         "149.73"
        ],
        [
         "9279",
         "Cleanser",
         "149.73"
        ],
        [
         "12594",
         "Primer",
         "149.72"
        ],
        [
         "6864",
         "Eye Shadow",
         "149.72"
        ],
        [
         "9799",
         "Foundation",
         "149.71"
        ],
        [
         "3064",
         "Makeup Remover",
         "149.71"
        ],
        [
         "4726",
         "Eyeliner",
         "149.7"
        ],
        [
         "654",
         "BB Cream",
         "149.7"
        ],
        [
         "4204",
         "CC Cream",
         "149.69"
        ],
        [
         "4047",
         "Mascara",
         "149.68"
        ],
        [
         "6330",
         "Face Oil",
         "149.68"
        ],
        [
         "12555",
         "Eyeliner",
         "149.68"
        ],
        [
         "5836",
         "Contour",
         "149.67"
        ],
        [
         "6021",
         "Primer",
         "149.67"
        ],
        [
         "840",
         "Highlighter",
         "149.67"
        ],
        [
         "3131",
         "Bronzer",
         "149.65"
        ],
        [
         "3026",
         "Lipstick",
         "149.65"
        ],
        [
         "8095",
         "Eye Shadow",
         "149.63"
        ],
        [
         "6190",
         "Cleanser",
         "149.62"
        ],
        [
         "1139",
         "Moisturizer",
         "149.62"
        ],
        [
         "6587",
         "Concealer",
         "149.61"
        ],
        [
         "5091",
         "Contour",
         "149.6"
        ]
       ],
       "shape": {
        "columns": 2,
        "rows": 15000
       }
      },
      "text/html": [
       "<div>\n",
       "<style scoped>\n",
       "    .dataframe tbody tr th:only-of-type {\n",
       "        vertical-align: middle;\n",
       "    }\n",
       "\n",
       "    .dataframe tbody tr th {\n",
       "        vertical-align: top;\n",
       "    }\n",
       "\n",
       "    .dataframe thead th {\n",
       "        text-align: right;\n",
       "    }\n",
       "</style>\n",
       "<table border=\"1\" class=\"dataframe\">\n",
       "  <thead>\n",
       "    <tr style=\"text-align: right;\">\n",
       "      <th></th>\n",
       "      <th>Category</th>\n",
       "      <th>Price_USD</th>\n",
       "    </tr>\n",
       "  </thead>\n",
       "  <tbody>\n",
       "    <tr>\n",
       "      <th>11484</th>\n",
       "      <td>BB Cream</td>\n",
       "      <td>149.99</td>\n",
       "    </tr>\n",
       "    <tr>\n",
       "      <th>5958</th>\n",
       "      <td>Bronzer</td>\n",
       "      <td>149.98</td>\n",
       "    </tr>\n",
       "    <tr>\n",
       "      <th>12667</th>\n",
       "      <td>Bronzer</td>\n",
       "      <td>149.97</td>\n",
       "    </tr>\n",
       "    <tr>\n",
       "      <th>10363</th>\n",
       "      <td>Powder</td>\n",
       "      <td>149.97</td>\n",
       "    </tr>\n",
       "    <tr>\n",
       "      <th>7551</th>\n",
       "      <td>Moisturizer</td>\n",
       "      <td>149.93</td>\n",
       "    </tr>\n",
       "    <tr>\n",
       "      <th>...</th>\n",
       "      <td>...</td>\n",
       "      <td>...</td>\n",
       "    </tr>\n",
       "    <tr>\n",
       "      <th>1964</th>\n",
       "      <td>Moisturizer</td>\n",
       "      <td>10.07</td>\n",
       "    </tr>\n",
       "    <tr>\n",
       "      <th>11413</th>\n",
       "      <td>Setting Spray</td>\n",
       "      <td>10.05</td>\n",
       "    </tr>\n",
       "    <tr>\n",
       "      <th>3807</th>\n",
       "      <td>Eyeliner</td>\n",
       "      <td>10.03</td>\n",
       "    </tr>\n",
       "    <tr>\n",
       "      <th>13084</th>\n",
       "      <td>Setting Spray</td>\n",
       "      <td>10.00</td>\n",
       "    </tr>\n",
       "    <tr>\n",
       "      <th>14405</th>\n",
       "      <td>Eyeliner</td>\n",
       "      <td>10.00</td>\n",
       "    </tr>\n",
       "  </tbody>\n",
       "</table>\n",
       "<p>15000 rows × 2 columns</p>\n",
       "</div>"
      ],
      "text/plain": [
       "            Category  Price_USD\n",
       "11484       BB Cream     149.99\n",
       "5958         Bronzer     149.98\n",
       "12667        Bronzer     149.97\n",
       "10363         Powder     149.97\n",
       "7551     Moisturizer     149.93\n",
       "...              ...        ...\n",
       "1964     Moisturizer      10.07\n",
       "11413  Setting Spray      10.05\n",
       "3807        Eyeliner      10.03\n",
       "13084  Setting Spray      10.00\n",
       "14405       Eyeliner      10.00\n",
       "\n",
       "[15000 rows x 2 columns]"
      ]
     },
     "execution_count": 15,
     "metadata": {},
     "output_type": "execute_result"
    }
   ],
   "source": [
    "df_selected = df2[['Category', 'Price_USD']]\n",
    "df_sorted = df_selected.sort_values(by='Price_USD', ascending=False)\n",
    "df_sorted"
   ]
  },
  {
   "cell_type": "code",
   "execution_count": 16,
   "id": "5be118bf",
   "metadata": {},
   "outputs": [],
   "source": [
    "df_sorted.to_csv('Category Sorted by Price AVG.csv', index=False)"
   ]
  },
  {
   "cell_type": "code",
   "execution_count": 34,
   "id": "5598898b",
   "metadata": {},
   "outputs": [
    {
     "data": {
      "application/vnd.microsoft.datawrangler.viewer.v0+json": {
       "columns": [
        {
         "name": "Brand",
         "rawType": "object",
         "type": "string"
        },
        {
         "name": "Price_USD",
         "rawType": "float64",
         "type": "float"
        }
       ],
       "ref": "213a881e-4f77-4f73-9dd1-6f3480993ed4",
       "rows": [
        [
         "Anastasia Beverly Hills",
         "81.65127371273712"
        ],
        [
         "Becca",
         "82.54579896907217"
        ],
        [
         "Bite Beauty",
         "77.4301275510204"
        ],
        [
         "Bobby Brown",
         "77.81868421052631"
        ],
        [
         "Bourjois",
         "80.55218487394959"
        ],
        [
         "Charlotte Tilbury",
         "79.83673076923077"
        ],
        [
         "Clinique",
         "80.527824933687"
        ],
        [
         "ColourPop",
         "80.27554878048781"
        ],
        [
         "Danessa Myricks",
         "81.35793296089385"
        ],
        [
         "Drunk Elephant",
         "76.97989130434782"
        ],
        [
         "E.l.f.",
         "79.59571428571428"
        ],
        [
         "Farsali",
         "81.28609022556391"
        ],
        [
         "Fenty Beauty",
         "82.68852459016394"
        ],
        [
         "Glossier",
         "80.8663144329897"
        ],
        [
         "Hourglass",
         "81.19191256830601"
        ],
        [
         "Huda Beauty",
         "80.04125"
        ],
        [
         "IT Cosmetics",
         "82.47679190751445"
        ],
        [
         "Ilia Beauty",
         "81.57327176781003"
        ],
        [
         "Juvia’s Place",
         "83.1601902173913"
        ],
        [
         "KVD Beauty",
         "81.19982097186701"
        ],
        [
         "Kiehl’s",
         "77.47849148418491"
        ],
        [
         "Kylie Cosmetics",
         "82.69889189189189"
        ],
        [
         "Laura Mercier",
         "78.728"
        ],
        [
         "Make Up For Ever",
         "82.462077294686"
        ],
        [
         "Milk Makeup",
         "78.99140845070421"
        ],
        [
         "Morphe",
         "78.11977040816326"
        ],
        [
         "NARS",
         "76.337625"
        ],
        [
         "Natasha Denona",
         "81.57073770491803"
        ],
        [
         "Pat McGrath Labs",
         "76.75730303030304"
        ],
        [
         "Patrick Ta",
         "79.46498550724637"
        ],
        [
         "Perricone MD",
         "79.35808022922636"
        ],
        [
         "RMS Beauty",
         "78.31392670157068"
        ],
        [
         "Rare Beauty",
         "76.44511999999999"
        ],
        [
         "Shiseido",
         "83.70621621621622"
        ],
        [
         "Sisley",
         "78.27535714285715"
        ],
        [
         "Tarte",
         "83.80393351800555"
        ],
        [
         "Tatcha",
         "78.76762032085561"
        ],
        [
         "Too Faced",
         "79.7101078167116"
        ],
        [
         "Urban Decay",
         "80.94783707865169"
        ],
        [
         "Yves Saint Laurent",
         "80.97677664974618"
        ]
       ],
       "shape": {
        "columns": 1,
        "rows": 40
       }
      },
      "text/plain": [
       "Brand\n",
       "Anastasia Beverly Hills    81.651274\n",
       "Becca                      82.545799\n",
       "Bite Beauty                77.430128\n",
       "Bobby Brown                77.818684\n",
       "Bourjois                   80.552185\n",
       "Charlotte Tilbury          79.836731\n",
       "Clinique                   80.527825\n",
       "ColourPop                  80.275549\n",
       "Danessa Myricks            81.357933\n",
       "Drunk Elephant             76.979891\n",
       "E.l.f.                     79.595714\n",
       "Farsali                    81.286090\n",
       "Fenty Beauty               82.688525\n",
       "Glossier                   80.866314\n",
       "Hourglass                  81.191913\n",
       "Huda Beauty                80.041250\n",
       "IT Cosmetics               82.476792\n",
       "Ilia Beauty                81.573272\n",
       "Juvia’s Place              83.160190\n",
       "KVD Beauty                 81.199821\n",
       "Kiehl’s                    77.478491\n",
       "Kylie Cosmetics            82.698892\n",
       "Laura Mercier              78.728000\n",
       "Make Up For Ever           82.462077\n",
       "Milk Makeup                78.991408\n",
       "Morphe                     78.119770\n",
       "NARS                       76.337625\n",
       "Natasha Denona             81.570738\n",
       "Pat McGrath Labs           76.757303\n",
       "Patrick Ta                 79.464986\n",
       "Perricone MD               79.358080\n",
       "RMS Beauty                 78.313927\n",
       "Rare Beauty                76.445120\n",
       "Shiseido                   83.706216\n",
       "Sisley                     78.275357\n",
       "Tarte                      83.803934\n",
       "Tatcha                     78.767620\n",
       "Too Faced                  79.710108\n",
       "Urban Decay                80.947837\n",
       "Yves Saint Laurent         80.976777\n",
       "Name: Price_USD, dtype: float64"
      ]
     },
     "execution_count": 34,
     "metadata": {},
     "output_type": "execute_result"
    }
   ],
   "source": [
    "brand_avg_price = df2.groupby('Brand')['Price_USD'].mean()\n",
    "brand_avg_price"
   ]
  },
  {
   "cell_type": "code",
   "execution_count": null,
   "id": "9d561da8",
   "metadata": {},
   "outputs": [
    {
     "data": {
      "application/vnd.microsoft.datawrangler.viewer.v0+json": {
       "columns": [
        {
         "name": "Brand",
         "rawType": "object",
         "type": "string"
        },
        {
         "name": "Price_USD",
         "rawType": "float64",
         "type": "float"
        }
       ],
       "ref": "9cda9da1-7423-4140-bc29-1c09b4090f9a",
       "rows": [
        [
         "Tarte",
         "83.80393351800555"
        ],
        [
         "Shiseido",
         "83.70621621621622"
        ],
        [
         "Juvia’s Place",
         "83.1601902173913"
        ],
        [
         "Kylie Cosmetics",
         "82.69889189189189"
        ],
        [
         "Fenty Beauty",
         "82.68852459016394"
        ],
        [
         "Becca",
         "82.54579896907217"
        ],
        [
         "IT Cosmetics",
         "82.47679190751445"
        ],
        [
         "Make Up For Ever",
         "82.462077294686"
        ],
        [
         "Anastasia Beverly Hills",
         "81.65127371273712"
        ],
        [
         "Ilia Beauty",
         "81.57327176781003"
        ]
       ],
       "shape": {
        "columns": 1,
        "rows": 10
       }
      },
      "text/plain": [
       "Brand\n",
       "Tarte                      83.803934\n",
       "Shiseido                   83.706216\n",
       "Juvia’s Place              83.160190\n",
       "Kylie Cosmetics            82.698892\n",
       "Fenty Beauty               82.688525\n",
       "Becca                      82.545799\n",
       "IT Cosmetics               82.476792\n",
       "Make Up For Ever           82.462077\n",
       "Anastasia Beverly Hills    81.651274\n",
       "Ilia Beauty                81.573272\n",
       "Name: Price_USD, dtype: float64"
      ]
     },
     "execution_count": 37,
     "metadata": {},
     "output_type": "execute_result"
    }
   ],
   "source": [
    "top_10_brands_by_price = brand_avg_price.sort_values(ascending=False).head(10)\n",
    "top_10_brands_df = top_10_brands_by_price.reset_index()\n",
    "top_10_brands_df"
   ]
  },
  {
   "cell_type": "code",
   "execution_count": 39,
   "id": "bb2fd3ad",
   "metadata": {},
   "outputs": [],
   "source": [
    "top_10_brands_df.to_csv('Top 10 brands in price.csv', index=False)"
   ]
  },
  {
   "cell_type": "code",
   "execution_count": 40,
   "id": "ef4baa91",
   "metadata": {},
   "outputs": [],
   "source": [
    "Bottom10brandsinprice = brand_avg_price.sort_values(ascending=False).tail(10)\n",
    "Bottom10brandsinprice = Bottom10brandsinprice.reset_index()"
   ]
  },
  {
   "cell_type": "code",
   "execution_count": 41,
   "id": "2494deff",
   "metadata": {},
   "outputs": [],
   "source": [
    "Bottom10brandsinprice.to_csv('Bottom 10 brands in price.csv', index=False)"
   ]
  },
  {
   "cell_type": "code",
   "execution_count": 42,
   "id": "79e2ed37",
   "metadata": {},
   "outputs": [],
   "source": [
    "top_10_by_rating = df2.sort_values(by='Rating', ascending=False).head(10)\n",
    "top_10_by_rating.to_csv('top_10_products_by_rating.csv', index=False)\n",
    "\n",
    "\n",
    "top_10_by_price = df2.sort_values(by='Price_USD', ascending=False).head(10)\n",
    "top_10_by_price.to_csv('top_10_products_by_price.csv', index=False)"
   ]
  },
  {
   "cell_type": "markdown",
   "id": "bad5a3c0",
   "metadata": {},
   "source": [
    "---\n"
   ]
  },
  {
   "cell_type": "markdown",
   "id": "13b90ae8",
   "metadata": {},
   "source": [
    "Most & Least Expensive Products: You've successfully identified the most expensive product as \"NYX Professional Makeup Lip Gloss...\" and the least expensive as \"Ciao Lip satin Lipstick-06.\"\n",
    "\n",
    "Price Distribution: The majority of products are priced between $300 and $400, with a significant number also in the $100-$300 range. The number of products decreases noticeably as prices go above $400.\n",
    "\n",
    "Category Pricing: The \"BB Cream\" category has the highest average price.\n",
    "\n",
    "Brand Performance: \"Anastasia Beverly Hills\" has the highest average price among brands, while \"Nars\" has the lowest.\n",
    "\n",
    "Top-Rated Products: You have successfully identified the top-rated products and saved them in separate CSV files.\n"
   ]
  }
 ],
 "metadata": {
  "kernelspec": {
   "display_name": "Python 3",
   "language": "python",
   "name": "python3"
  },
  "language_info": {
   "codemirror_mode": {
    "name": "ipython",
    "version": 3
   },
   "file_extension": ".py",
   "mimetype": "text/x-python",
   "name": "python",
   "nbconvert_exporter": "python",
   "pygments_lexer": "ipython3",
   "version": "3.12.1"
  }
 },
 "nbformat": 4,
 "nbformat_minor": 5
}
